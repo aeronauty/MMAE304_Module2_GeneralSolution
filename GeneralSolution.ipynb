{
 "cells": [
  {
   "cell_type": "code",
   "execution_count": 1,
   "metadata": {},
   "outputs": [
    {
     "name": "stdout",
     "output_type": "stream",
     "text": [
      "/Users/harrysmith/anaconda3/bin:/Users/harrysmith/anaconda3/condabin:/usr/bin:/bin:/usr/sbin:/sbin\n"
     ]
    }
   ],
   "source": [
    "from sympy import *\n",
    "import sympy\n",
    "import matplotlib.pyplot as mpl\n",
    "from IPython.display import display, Math, Latex\n",
    "import numpy as np\n",
    "from matplotlib import pyplot as plt\n",
    "init_printing()\n",
    "from IPython.display import Markdown as md\n",
    "! echo $PATH"
   ]
  },
  {
   "cell_type": "code",
   "execution_count": 58,
   "metadata": {},
   "outputs": [],
   "source": [
    "# Student inputs\n",
    "lone = 1.4e3\n",
    "tone = 0.7\n",
    "ttwo = 1.35\n",
    "hone = 0.15e3\n",
    "vone = 125e3\n",
    "lims = [lone, pi, lone, hone]"
   ]
  },
  {
   "cell_type": "markdown",
   "metadata": {
    "slideshow": {
     "slide_type": "subslide"
    }
   },
   "source": [
    "# Introduction\n",
    "\n",
    "The problem assigned is for the thin-walled wing structure\n",
    "\n",
    "<img src=\"Fig1.png\" width=\"400\">\n",
    "\n",
    "where we are given the pertinent geometries. \n",
    "\n",
    "## Question 1: Second moment of area determination\n",
    "The first part is to determine the second moment of area - the question does not specify *which* $I$ to determine but from the nature of the question it should be clear that the answer is for the $I_{xx}$. This can be determine for the three different sized members. Members 12 and 34 are trapezoids which will have equal contributions. After finding the expression for the second moment of area of a trapezoid, this is given by the parallel axis theorem\n",
    "\n",
    "$$I_{xx12}={\\frac{l\\left(t_1+t_2\\right)\\left(t_1^2+t_2^2\\right)}{48}}+\\frac{t_1+t_2}{2}l\\left(\\frac{h}{2}\\right)^2$$\n",
    "\n",
    "Which the left hand term is of order $t^3$ so can be neglected, giving:\n",
    "\n",
    "$$I_{xx12} = I_{xx34} = \\frac{t_1+t_2}{2}l\\left(\\frac{h}{2}\\right)^2$$\n",
    "\n",
    "The second moment of area of the semicircular section is identical to that from one of the homeworks - where $I_{xx}=\\frac{\\pi\\,r^3\\, t}{2}$. Since this members vertical centroid is at the same location as that of the body, there is no requirement to use the parallel axis theorem:\n",
    "\n",
    "$$I_{xx23} = \\frac{\\pi(\\frac{h}{2})^3t_1}{2}$$\n",
    "\n",
    "Finally, the last member is easy to solve:\n",
    "\n",
    "$$I_{xx41} = \\frac{t_2\\,h^3}{12}$$\n",
    "\n",
    "Putting it all together we get the total second moment of area"
   ]
  },
  {
   "cell_type": "code",
   "execution_count": 59,
   "metadata": {
    "scrolled": true
   },
   "outputs": [
    {
     "data": {
      "text/latex": [
       "$\\displaystyle I_{xx12} =8071875.0$"
      ],
      "text/plain": [
       "<IPython.core.display.Math object>"
      ]
     },
     "metadata": {},
     "output_type": "display_data"
    },
    {
     "data": {
      "text/latex": [
       "$\\displaystyle I_{xx23} =4.6388 \\cdot 10^{5}$"
      ],
      "text/plain": [
       "<IPython.core.display.Math object>"
      ]
     },
     "metadata": {},
     "output_type": "display_data"
    },
    {
     "data": {
      "text/latex": [
       "$\\displaystyle I_{xx34} =8071875.0$"
      ],
      "text/plain": [
       "<IPython.core.display.Math object>"
      ]
     },
     "metadata": {},
     "output_type": "display_data"
    },
    {
     "data": {
      "text/latex": [
       "$\\displaystyle I_{xx41} =379687.5$"
      ],
      "text/plain": [
       "<IPython.core.display.Math object>"
      ]
     },
     "metadata": {},
     "output_type": "display_data"
    },
    {
     "data": {
      "text/latex": [
       "$\\displaystyle I_{xx}=h^{2} \\left(\\frac{\\pi h t_{1}}{16} + \\frac{h t_{2}}{12} + \\frac{l \\left(t_{1} + t_{2}\\right)}{4}\\right) = 1.6987 \\cdot 10^{7}(mm)^4 = 1.6987 \\cdot 10^{-5}m^4$"
      ],
      "text/plain": [
       "<IPython.core.display.Math object>"
      ]
     },
     "metadata": {},
     "output_type": "display_data"
    }
   ],
   "source": [
    "t_1, t_2, h, l, I_xx = symbols('t_1 t_2 h l I_{xx}')\n",
    "Ixx12 = (t_1 + t_2)/2*l*(h/2)**2\n",
    "Ixx34 = Ixx12;\n",
    "Ixx23 = (pi*(h/2)**3*t_1)/2;\n",
    "Ixx41 = (t_2*h**3)/12;\n",
    "\n",
    "pref = 'I_{xx}='\n",
    "Ixx = simplify(Ixx12 + Ixx23 + Ixx34 + Ixx41)\n",
    "Ixx2 = Ixx.subs({t_1: tone, t_2: ttwo, h: hone, l:lone})\n",
    "display(Math('I_{xx12} =' + latex(Ixx12.subs({t_1: tone, t_2: ttwo, h: hone, l:lone}))))\n",
    "display(Math('I_{xx23} =' + latex(expand(Ixx23.subs({t_1: tone, t_2: ttwo, h: hone, l:lone})).evalf(5))))\n",
    "display(Math('I_{xx34} =' + latex(Ixx34.subs({t_1: tone, t_2: ttwo, h: hone, l:lone}))))\n",
    "display(Math('I_{xx41} =' + latex(Ixx41.subs({t_1: tone, t_2: ttwo, h: hone, l:lone}))))\n",
    "display(Math(pref + latex(Ixx) + ' = ' + latex((Ixx2.evalf(5))) + '(mm)^4 = '  + latex((Ixx2.evalf(5)/10**12)) + 'm^4'))\n"
   ]
  },
  {
   "cell_type": "markdown",
   "metadata": {},
   "source": [
    "## Question 2: Shear flow distribution\n",
    "\n",
    "This question is asking you to determine the full shear flow distribution - and then asks you to cut member 4-1 along the axis of symmetry. Rather than make that cut, I'll introduce a cut at node 1. Hence the offset $q_0=q_{s1}(0)=q_{s4}=(h)$. The general expression for the basic shear flow is\n",
    "\n",
    "$$q_b = q_{b}(0) -\\frac{V_y}{I_{xx}}\\int^{s}_0t(s)y(s)\\,\\text{d}s$$\n",
    "\n",
    "Where in the above, $q_{b0}$ is the value at start - so for $q_{b1}$ we know that is it zero since we've made it an open member. Hence for $q_{b1}$ we need the thickness distribution as a function of $s_1$ which is clearly\n",
    "\n",
    "$$t(s_1) = t_2 - \\frac{t_2-t_1}{l}s_1$$\n",
    "\n",
    "Hence\n",
    "\n",
    "$$q_{b1} = -\\frac{V_y}{I_{xx}}\\int^{s_1}_0\\left(t_2 - \\frac{t_2-t_1}{l}s_1\\right)\\cdot-\\frac{h}{2}\\,\\text{d}s_1$$"
   ]
  },
  {
   "cell_type": "code",
   "execution_count": 60,
   "metadata": {},
   "outputs": [
    {
     "data": {
      "text/latex": [
       "$\\displaystyle q_{b1} = - \\frac{V_{y} \\left(- \\frac{h s_{1} t_{2}}{2} + \\frac{s_{1}^{2} \\left(- h t_{1} + h t_{2}\\right)}{4 l}\\right)}{h^{2} \\left(\\frac{\\pi h t_{1}}{16} + \\frac{h t_{2}}{12} + \\frac{l \\left(t_{1} + t_{2}\\right)}{4}\\right)} = - 0.00012812 s_{1}^{2} + 0.74504 s_{1}$"
      ],
      "text/plain": [
       "<IPython.core.display.Math object>"
      ]
     },
     "metadata": {},
     "output_type": "display_data"
    }
   ],
   "source": [
    "s_1, s_2, s_3, s_4, V_y, theta = symbols('s_1 s_2 s_3 s_4, V_y, theta')\n",
    "s = [s_1, theta, s_3, s_4]\n",
    "t = sympy.Matrix([[0], [0], [0], [0]])\n",
    "\n",
    "\n",
    "t[0] = (t_2 - (t_2 - t_1)/l*s_1)\n",
    "\n",
    "functb1 = (t_2 - (t_2 - t_1)/l*s_1)*-h/2\n",
    "\n",
    "qb = [] # Array for the analytical form of the basic shear flow\n",
    "qb_subs = [] # Array for the version with the student values substituted in\n",
    "qp = [] # Array for the principle values\n",
    "qp.append(pi*0) # We know the value at 1 is 0\n",
    "\n",
    "qb.append(-V_y/Ixx*(integrate(functb1, (s_1, 0, s_1))))\n",
    "qb_subs.append(qb[0].subs({t_1: tone, t_2: ttwo, h: hone, l:lone, V_y:vone}))\n",
    "\n",
    "display(Math('q_{b1} = ' + latex(qb[0]) + ' = ' + latex(qb_subs[0].evalf(5))))\n"
   ]
  },
  {
   "cell_type": "markdown",
   "metadata": {},
   "source": [
    "And the principle value is given by the value fo $q_{b1}$ with $s_1=l$"
   ]
  },
  {
   "cell_type": "code",
   "execution_count": 61,
   "metadata": {},
   "outputs": [
    {
     "data": {
      "text/latex": [
       "$\\displaystyle q_{2} = \\frac{597916.666666667}{6.5625 \\pi + 734.375} = 791.95$"
      ],
      "text/plain": [
       "<IPython.core.display.Math object>"
      ]
     },
     "metadata": {},
     "output_type": "display_data"
    }
   ],
   "source": [
    "qp.append(qb_subs[0].subs(s_1, lone))\n",
    "display(Math('q_{2} = ' + latex(qp[1]) + ' = ' + latex(qp[1].evalf(5))))"
   ]
  },
  {
   "cell_type": "markdown",
   "metadata": {},
   "source": [
    "Similarly, the value of the basic distribution in member 2-3 may now be determined. This is *slightly* more complex, but we went through a very similar example previously. The y-displacement as a function of the angular length along $s_2$ where $s_2=r\\theta$ is given by\n",
    "\n",
    "$$y(\\theta)=-r\\cdot\\cos\\theta$$\n",
    "$\\def\\dif{\\text{d}}$\n",
    "and if $s_2=r\\theta$, then $\\text{d}s_2=r\\,\\dif\\theta$, so:\n",
    "\n",
    "$$q_{b2} = q_2 - \\frac{V_y}{I_{xx}}\\int^\\theta_0t_1\\cdot-r\\cdot\\cos\\theta\\,r\\,\\dif\\theta$$\n",
    "$$= q_2 + \\frac{V_y\\cdot t_1\\cdot r^2}{I_{xx}}\\int^\\theta_0\\cos\\theta\\,\\dif\\theta$$\n",
    "$$= q_2 + \\frac{V_y\\cdot t_1\\cdot r^2}{I_{xx}}\\left[\\sin\\theta\\right]^\\theta_0$$\n",
    "$$= q_2 + \\frac{V_y\\cdot t_1\\cdot r^2}{I_{xx}}\\sin\\theta$$\n",
    "\n",
    "Seeing that $r$ is the radius of the semi-circle and hence equal to half the sectional height.\n",
    "\n",
    "$$= q_2 + \\frac{V_y\\cdot t_1\\cdot h^2}{4\\cdot I_{xx}}\\sin\\theta$$"
   ]
  },
  {
   "cell_type": "code",
   "execution_count": 62,
   "metadata": {},
   "outputs": [
    {
     "data": {
      "text/latex": [
       "$\\displaystyle q_{b2} = \\frac{V_{y} t_{1} \\sin{\\left(\\theta \\right)}}{4 \\left(\\frac{\\pi h t_{1}}{16} + \\frac{h t_{2}}{12} + \\frac{l \\left(t_{1} + t_{2}\\right)}{4}\\right)} + \\frac{597916.666666667}{6.5625 \\pi + 734.375} = 28.974 \\sin{\\left(\\theta \\right)} + 791.95$"
      ],
      "text/plain": [
       "<IPython.core.display.Math object>"
      ]
     },
     "metadata": {},
     "output_type": "display_data"
    }
   ],
   "source": [
    "theta = symbols('theta')\n",
    "t[1] = t_1\n",
    "qb.append(qp[1] + V_y*t_1*h**2/4/Ixx*sin(theta))\n",
    "qb_subs.append(qb[1].subs({t_1: tone, t_2: ttwo, h: hone, l:lone, V_y:vone}))\n",
    "display(Math('q_{b2} = ' + latex(qb[1]) + ' = ' + latex(qb_subs[1].evalf(5))))"
   ]
  },
  {
   "cell_type": "markdown",
   "metadata": {},
   "source": [
    "With the principal value being given by $q_{b2}$ with $\\theta = \\pi$"
   ]
  },
  {
   "cell_type": "code",
   "execution_count": 63,
   "metadata": {},
   "outputs": [
    {
     "data": {
      "text/latex": [
       "$\\displaystyle q_{3} = \\frac{597916.666666667}{6.5625 \\pi + 734.375} = 791.95$"
      ],
      "text/plain": [
       "<IPython.core.display.Math object>"
      ]
     },
     "metadata": {},
     "output_type": "display_data"
    }
   ],
   "source": [
    "qp.append(qb_subs[1].subs(theta, pi))\n",
    "display(Math('q_{3} = ' + latex(qp[2]) + ' = ' + latex(qp[2].evalf(5))))"
   ]
  },
  {
   "cell_type": "markdown",
   "metadata": {},
   "source": [
    "Repeating the exercise for s3:\n",
    "\n",
    "$$q_{b3} = q_3 -\\frac{V_y}{I_{xx}}\\int^{s_3}_0t(s_3)y(s_3)\\,\\dif s_3$$\n",
    "\n",
    "And we have the thickess as a function of $s_3$ as $t(s_3) = t_1 + \\frac{t_2 - t1}{l}s_3$, and the vertical displacement as a constant $\\frac{h}{2}$ hence the basic shear flow distribution as"
   ]
  },
  {
   "cell_type": "code",
   "execution_count": 64,
   "metadata": {},
   "outputs": [
    {
     "data": {
      "text/latex": [
       "$\\displaystyle q_{b3} = - \\frac{V_{y} \\left(\\frac{h s_{3} t_{1}}{2} + \\frac{s_{3}^{2} \\left(- h t_{1} + h t_{2}\\right)}{4 l}\\right)}{h^{2} \\left(\\frac{\\pi h t_{1}}{16} + \\frac{h t_{2}}{12} + \\frac{l \\left(t_{1} + t_{2}\\right)}{4}\\right)} + \\frac{597916.666666667}{6.5625 \\pi + 734.375} = - 0.00012812 s_{3}^{2} - 0.38632 s_{3} + 791.95$"
      ],
      "text/plain": [
       "<IPython.core.display.Math object>"
      ]
     },
     "metadata": {},
     "output_type": "display_data"
    },
    {
     "data": {
      "text/latex": [
       "$\\displaystyle q_{4} = 0 = 0$"
      ],
      "text/plain": [
       "<IPython.core.display.Math object>"
      ]
     },
     "metadata": {},
     "output_type": "display_data"
    }
   ],
   "source": [
    "functb3 = (t_1 + (t_2 - t_1)/l*s_3)*h/2\n",
    "t[2] = t_1 + (t_2 - t_1)/l*s_3\n",
    "qb.append(qp[2] + -V_y/Ixx*(integrate(functb3, (s_3, 0, s_3))))\n",
    "\n",
    "qb_subs.append(qb[2].subs({t_1: tone, t_2: ttwo, h: hone, l:lone, V_y:vone}))\n",
    "\n",
    "display(Math('q_{b3} = ' + latex(qb[2]) + ' = ' + latex(qb_subs[2].evalf(5))))\n",
    "\n",
    "qp.append(qb_subs[2].subs(s_3, lone))\n",
    "\n",
    "display(Math('q_{4} = ' + latex(qp[3]) + ' = ' + latex(qp[3].evalf(5))))"
   ]
  },
  {
   "cell_type": "markdown",
   "metadata": {},
   "source": [
    "Repeating the exercise for s4:\n",
    "\n",
    "$$q_{b4} = q_4 -\\frac{V_y}{I_{xx}}\\int^{s_4}_0t(s_4)y(s_4)\\,\\dif s_3$$\n",
    "\n",
    "And we have the thickess as a constant $t_2$, and the vertical displacement as a function of $s_4$ is $y(s_4)=\\frac{h}{2}-s_4$. Hence the basic shear flow distribution as"
   ]
  },
  {
   "cell_type": "code",
   "execution_count": 65,
   "metadata": {},
   "outputs": [
    {
     "data": {
      "text/latex": [
       "$\\displaystyle q_{b4} = - \\frac{V_{y} \\left(\\frac{h s_{4} t_{2}}{2} - \\frac{s_{4}^{2} t_{2}}{2}\\right)}{h^{2} \\left(\\frac{\\pi h t_{1}}{16} + \\frac{h t_{2}}{12} + \\frac{l \\left(t_{1} + t_{2}\\right)}{4}\\right)} = 0.0049669 s_{4}^{2} - 0.74504 s_{4}$"
      ],
      "text/plain": [
       "<IPython.core.display.Math object>"
      ]
     },
     "metadata": {},
     "output_type": "display_data"
    },
    {
     "data": {
      "text/latex": [
       "$\\displaystyle q_{1} = \\frac{1.01054966863659 \\cdot 10^{-11}}{6.5625 \\pi + 734.375} = 1.3385 \\cdot 10^{-14}$"
      ],
      "text/plain": [
       "<IPython.core.display.Math object>"
      ]
     },
     "metadata": {},
     "output_type": "display_data"
    }
   ],
   "source": [
    "functb3 = t_2*(h/2-s_4)\n",
    "t[3] = t_2\n",
    "\n",
    "qb.append(qp[3] -V_y/Ixx*(integrate(functb3, (s_4, 0, s_4))))\n",
    "\n",
    "qb_subs.append(qb[3].subs({t_1: tone, t_2: ttwo, h: hone, l:lone, V_y:vone}))\n",
    "\n",
    "display(Math('q_{b4} = ' + latex(qb[3]) + ' = ' + latex(qb_subs[3].evalf(5))))\n",
    "\n",
    "qp.append(qb_subs[3].subs(s_4, hone))\n",
    "display(Math('q_{1} = ' + latex(qp[4]) + ' = ' + latex(qp[4].evalf(5))))"
   ]
  },
  {
   "cell_type": "markdown",
   "metadata": {},
   "source": [
    "Which has given us the four *basic* shear flow distributions:"
   ]
  },
  {
   "cell_type": "code",
   "execution_count": 66,
   "metadata": {},
   "outputs": [
    {
     "data": {
      "text/latex": [
       "$\\displaystyle q_{b1} = - \\frac{V_{y} \\left(- \\frac{h s_{1} t_{2}}{2} + \\frac{s_{1}^{2} \\left(- h t_{1} + h t_{2}\\right)}{4 l}\\right)}{h^{2} \\left(\\frac{\\pi h t_{1}}{16} + \\frac{h t_{2}}{12} + \\frac{l \\left(t_{1} + t_{2}\\right)}{4}\\right)} = - 0.00012812 s_{1}^{2} + 0.74504 s_{1}$"
      ],
      "text/plain": [
       "<IPython.core.display.Math object>"
      ]
     },
     "metadata": {},
     "output_type": "display_data"
    },
    {
     "data": {
      "text/latex": [
       "$\\displaystyle q_{b2} = \\frac{V_{y} t_{1} \\sin{\\left(\\theta \\right)}}{4 \\left(\\frac{\\pi h t_{1}}{16} + \\frac{h t_{2}}{12} + \\frac{l \\left(t_{1} + t_{2}\\right)}{4}\\right)} + \\frac{597916.666666667}{6.5625 \\pi + 734.375} = 28.974 \\sin{\\left(\\theta \\right)} + 791.95$"
      ],
      "text/plain": [
       "<IPython.core.display.Math object>"
      ]
     },
     "metadata": {},
     "output_type": "display_data"
    },
    {
     "data": {
      "text/latex": [
       "$\\displaystyle q_{b3} = - \\frac{V_{y} \\left(\\frac{h s_{3} t_{1}}{2} + \\frac{s_{3}^{2} \\left(- h t_{1} + h t_{2}\\right)}{4 l}\\right)}{h^{2} \\left(\\frac{\\pi h t_{1}}{16} + \\frac{h t_{2}}{12} + \\frac{l \\left(t_{1} + t_{2}\\right)}{4}\\right)} + \\frac{597916.666666667}{6.5625 \\pi + 734.375} = - 0.00012812 s_{3}^{2} - 0.38632 s_{3} + 791.95$"
      ],
      "text/plain": [
       "<IPython.core.display.Math object>"
      ]
     },
     "metadata": {},
     "output_type": "display_data"
    },
    {
     "data": {
      "text/latex": [
       "$\\displaystyle q_{b4} = - \\frac{V_{y} \\left(\\frac{h s_{4} t_{2}}{2} - \\frac{s_{4}^{2} t_{2}}{2}\\right)}{h^{2} \\left(\\frac{\\pi h t_{1}}{16} + \\frac{h t_{2}}{12} + \\frac{l \\left(t_{1} + t_{2}\\right)}{4}\\right)} = 0.0049669 s_{4}^{2} - 0.74504 s_{4}$"
      ],
      "text/plain": [
       "<IPython.core.display.Math object>"
      ]
     },
     "metadata": {},
     "output_type": "display_data"
    },
    {
     "data": {
      "image/png": "[encoded data removed]",
      "text/plain": [
       "<Figure size 432x288 with 1 Axes>"
      ]
     },
     "metadata": {
      "needs_background": "light"
     },
     "output_type": "display_data"
    },
    {
     "data": {
      "image/png": "[encoded data removed]",
      "text/plain": [
       "<Figure size 432x288 with 1 Axes>"
      ]
     },
     "metadata": {
      "needs_background": "light"
     },
     "output_type": "display_data"
    },
    {
     "data": {
      "image/png": "[encoded data removed]",
      "text/plain": [
       "<Figure size 432x288 with 1 Axes>"
      ]
     },
     "metadata": {
      "needs_background": "light"
     },
     "output_type": "display_data"
    },
    {
     "data": {
      "image/png": "[encoded data removed]",
      "text/plain": [
       "<Figure size 432x288 with 1 Axes>"
      ]
     },
     "metadata": {
      "needs_background": "light"
     },
     "output_type": "display_data"
    }
   ],
   "source": [
    "# S = symbols('S')\n",
    "for i in range(0, 4):\n",
    "    display(Math('q_{b' + str(i+1) + '} = ' + latex(qb[i]) + ' = ' + latex(qb_subs[i].evalf(5))))\n",
    "    svect = np.linspace(0, float(lims[i]), int(1e5))\n",
    "\n",
    "    qbfun = lambdify((s[i],), qb_subs[i], modules=['numpy'])\n",
    "    x_vals = svect\n",
    "    y_vals = qbfun(svect)\n",
    "    fig = plt.figure()\n",
    "    ax = fig.add_axes([0, 0, 1, 1])\n",
    "    ax.plot(x_vals, y_vals)\n",
    "    plt.title('Basic shear flow distribution, $q_{b%i}$' %(i+1))\n",
    "    if i == 1:\n",
    "        plt.xlabel('$theta$')\n",
    "    else:\n",
    "        plt.xlabel('$s_%i$' %(i+1))    \n",
    "    plt.ylabel('$q_{b%i}$' %(i+1))\n",
    "    "
   ]
  },
  {
   "cell_type": "markdown",
   "metadata": {},
   "source": [
    "With the principal values given by:"
   ]
  },
  {
   "cell_type": "code",
   "execution_count": 67,
   "metadata": {},
   "outputs": [
    {
     "data": {
      "text/latex": [
       "$\\displaystyle q_1 = 0 = 0$"
      ],
      "text/plain": [
       "<IPython.core.display.Math object>"
      ]
     },
     "metadata": {},
     "output_type": "display_data"
    },
    {
     "data": {
      "text/latex": [
       "$\\displaystyle q_2 = \\frac{597916.666666667}{6.5625 \\pi + 734.375} = 791.95$"
      ],
      "text/plain": [
       "<IPython.core.display.Math object>"
      ]
     },
     "metadata": {},
     "output_type": "display_data"
    },
    {
     "data": {
      "text/latex": [
       "$\\displaystyle q_3 = \\frac{597916.666666667}{6.5625 \\pi + 734.375} = 791.95$"
      ],
      "text/plain": [
       "<IPython.core.display.Math object>"
      ]
     },
     "metadata": {},
     "output_type": "display_data"
    },
    {
     "data": {
      "text/latex": [
       "$\\displaystyle q_4 = 0 = 0$"
      ],
      "text/plain": [
       "<IPython.core.display.Math object>"
      ]
     },
     "metadata": {},
     "output_type": "display_data"
    },
    {
     "data": {
      "text/latex": [
       "$\\displaystyle q_5 = q_1 = \\frac{1.01054966863659 \\cdot 10^{-11}}{6.5625 \\pi + 734.375} = 1.3385 \\cdot 10^{-14}$"
      ],
      "text/plain": [
       "<IPython.core.display.Math object>"
      ]
     },
     "metadata": {},
     "output_type": "display_data"
    }
   ],
   "source": [
    "for i in range(0, 5):\n",
    "    if i < 4:\n",
    "        display(Math('q_' + str(i+1) + ' = ' + latex(qp[i]) + ' = '  + latex(qp[i].evalf(5))))\n",
    "    else:\n",
    "        display(Math('q_5 = q_' + str(i-3) + ' = ' + latex(qp[i]) + ' = '  + latex(qp[i].evalf(5))))\n",
    "            \n",
    "\n"
   ]
  },
  {
   "cell_type": "markdown",
   "metadata": {},
   "source": [
    "Now we have the basic value of the distribution, the offset can be determined from\n",
    "$$q_0 = -\\frac{\\int^s_0\\frac{q_b}{G\\,t}\\,\\dif s}{\\int^s_0\\frac{1}{G\\,t}\\,\\dif s}$$\n",
    "\n",
    "Which for this problem is the same as:\n",
    "\n",
    "$$q_0 = -\\frac{\\displaystyle\\sum^4_{i=1}\\displaystyle\\int^{s_i}_0\\frac{q_{b_i}}{t(s_i)}\\,\\dif s_i}{\\displaystyle\\sum^4_{i=1}\\displaystyle\\int^{si}_0\\frac{1}{t(s_i)}\\,\\dif s_i}$$"
   ]
  },
  {
   "cell_type": "code",
   "execution_count": 68,
   "metadata": {},
   "outputs": [
    {
     "data": {
      "text/latex": [
       "$\\displaystyle q_0 = \\frac{- \\frac{837145833.333333}{6.5625 \\pi + 734.375} - \\frac{521458333.333333}{13.125 \\pi + 1468.75} - \\frac{854166.666666667 \\pi}{6.5625 \\pi + 734.375} + \\frac{521458333.333333}{19.6875 \\pi + 2203.125}}{1.42857142857143 \\pi + 2940.31526786403} = -416.83$"
      ],
      "text/plain": [
       "<IPython.core.display.Math object>"
      ]
     },
     "metadata": {},
     "output_type": "display_data"
    }
   ],
   "source": [
    "num = [];\n",
    "den = [];\n",
    "\n",
    "\n",
    "for i in range(0, 4):\n",
    "#     print(t[i])\n",
    "    a, b = div(qb_subs[i],t[i].subs({t_1:tone, t_2:ttwo, l:lone}))\n",
    "    \n",
    "    if a == 0:\n",
    "        qbfunct = b\n",
    "    else:\n",
    "        qbfunct = a        \n",
    "#     print(s[i])\n",
    "#     print(qbfunct)\n",
    "#     print(lims[i])\n",
    "#     print('\\n')\n",
    "    num.append(integrate(qbfunct, (s[i], 0, lims[i])))\n",
    "    den.append(integrate(1/t[i].subs({t_1:tone, t_2:ttwo, l:lone}), (s[i], 0, lims[i])))\n",
    "\n",
    "\n",
    "\n",
    "q0 = -sum(num)/sum(den)\n",
    "\n",
    "display(Math('q_0 = ' + latex(q0) + ' = '  + latex(q0.evalf(5))))"
   ]
  },
  {
   "cell_type": "code",
   "execution_count": 69,
   "metadata": {},
   "outputs": [
    {
     "data": {
      "text/latex": [
       "$\\displaystyle q_{s1} = - 0.00012812 s_{1}^{2} + 0.74504 s_{1} - 416.83$"
      ],
      "text/plain": [
       "<IPython.core.display.Math object>"
      ]
     },
     "metadata": {},
     "output_type": "display_data"
    },
    {
     "data": {
      "text/latex": [
       "$\\displaystyle q_{s2} = 28.974 \\sin{\\left(\\theta \\right)} + 375.12$"
      ],
      "text/plain": [
       "<IPython.core.display.Math object>"
      ]
     },
     "metadata": {},
     "output_type": "display_data"
    },
    {
     "data": {
      "text/latex": [
       "$\\displaystyle q_{s3} = - 0.00012812 s_{3}^{2} - 0.38632 s_{3} + 375.12$"
      ],
      "text/plain": [
       "<IPython.core.display.Math object>"
      ]
     },
     "metadata": {},
     "output_type": "display_data"
    },
    {
     "data": {
      "text/latex": [
       "$\\displaystyle q_{s4} = 0.0049669 s_{4}^{2} - 0.74504 s_{4} - 416.83$"
      ],
      "text/plain": [
       "<IPython.core.display.Math object>"
      ]
     },
     "metadata": {},
     "output_type": "display_data"
    },
    {
     "data": {
      "image/png": "[encoded data removed]",
      "text/plain": [
       "<Figure size 432x288 with 1 Axes>"
      ]
     },
     "metadata": {
      "needs_background": "light"
     },
     "output_type": "display_data"
    },
    {
     "data": {
      "image/png": "[encoded data removed]",
      "text/plain": [
       "<Figure size 432x288 with 1 Axes>"
      ]
     },
     "metadata": {
      "needs_background": "light"
     },
     "output_type": "display_data"
    },
    {
     "data": {
      "image/png": "[encoded data removed]",
      "text/plain": [
       "<Figure size 432x288 with 1 Axes>"
      ]
     },
     "metadata": {
      "needs_background": "light"
     },
     "output_type": "display_data"
    },
    {
     "data": {
      "image/png": "[encoded data removed]",
      "text/plain": [
       "<Figure size 432x288 with 1 Axes>"
      ]
     },
     "metadata": {
      "needs_background": "light"
     },
     "output_type": "display_data"
    }
   ],
   "source": [
    "qs = []\n",
    "for i in range(0, 4):\n",
    "    qs.append(q0 + qb_subs[i])\n",
    "    display(Math('q_{s' + str(i+1) + '} = '  + latex(qs[i].evalf(5))))\n",
    "    svect = np.linspace(0, float(lims[i]), int(1e5))\n",
    "\n",
    "    qbfun = lambdify((s[i],), qs[i], modules=['numpy'])\n",
    "    x_vals = svect\n",
    "    y_vals = qbfun(svect)\n",
    "    fig = plt.figure()\n",
    "    ax = fig.add_axes([0, 0, 1, 1])\n",
    "    ax.plot(x_vals, y_vals)\n",
    "    plt.title('Actual shear flow distribution, $q_{b%i}$' %(i+1))\n",
    "    plt.xlabel('$s_%i$' %(i+1))\n",
    "    plt.ylabel('$q_{s%i}$' %(i+1))"
   ]
  },
  {
   "cell_type": "markdown",
   "metadata": {},
   "source": [
    "## Question 3: Shear centre determination\n",
    "\n",
    "Now we can determine the shear centre by setting the moments due to shear flow and that due to the shear force equal to zero. Remember that this condition is *always* true for a closed section, BUT - we've determined the shear flow distribution due to *any* vertical force on the section. We now can determine the moment which is dependent on $\\zeta$. This will only be equal to the shear flow moment if the load is applied at the shear centre. We can try this for two different moment points.\n",
    "\n",
    "We can show that the answer is the same wherever moments are taken about.\n",
    "\n",
    "<img src=\"Fig1.png\" width=\"400\">\n",
    "\n",
    "Choosing, initially, to take moments about node 3. This means that we need to look at the moments produced by $q_{s1}$, $q_{s2}$, and $q_{s4}$. We used a semi-circular arc before - we can adapt the methodology for this question\n",
    "\n",
    "<img src=\"SemiCircularArc.jpg\" width=\"200\">\n",
    "\n",
    "The moment at $B$ due to the shear force $q_s$ will be the integrated component of $q_s$ normal to the line $l$, multiplied by the moment arm, $l$. From basic circle theory, the angle made by the tangent to the circle (that is, the line $q_s(\\theta)$) will be $\\frac{\\theta}{2}$, and the length $l$ will be $2\\cdot r\\cdot\\cos\\frac{\\theta}{2}$. The moment along $s_2$ per unit length is therefore\n",
    "\n",
    "$$\\frac{\\dif M^q_B}{\\dif{s_2}} = l\\cdot q_{s_2}\\cdot\\cos\\frac{\\theta}{2} = 2\\cdot r\\cdot\\cos\\frac{\\theta}{2}\\cdot q_{s_2}\\cdot\\cos\\frac{\\theta}{2}$$\n",
    "$$= 2\\cdot q_{s_2}\\cdot r\\cdot\\frac{1 + \\cos\\frac{\\theta}{2}}{2} = q_{s_2}\\left(r + r\\cdot\\cos\\theta\\right)$$\n",
    "$$= q_{s_2}\\frac{1}{2}\\left(h + h\\cdot\\cos\\theta\\right)$$\n",
    "\n",
    "Which we integrate along $s_2$ to get the total moment at $B$. Since the expression above is a function of $\\theta$ and not $s_2$ we substitute the variable of integration by recalling that $s = r\\theta, \\rightarrow \\dif s=r\\,\\dif \\theta$\n",
    "\n",
    "$$ M^q_{s_2} = \\int^\\pi_0q_{s_2}\\frac{1}{2}\\left(h + h\\cdot\\cos\\theta\\right)\\frac{h}{2}\\,\\dif \\theta$$\n",
    "$$  = \\int^\\pi_0q_{s_2}\\frac{1}{4}\\left(h + h\\cdot\\cos\\theta\\right)h\\,\\dif \\theta$$"
   ]
  },
  {
   "cell_type": "code",
   "execution_count": 70,
   "metadata": {},
   "outputs": [
    {
     "data": {
      "image/png": "[encoded data removed]",
      "text/latex": [
       "$\\displaystyle 150.0 \\left(7.2435 \\sin{\\left(\\theta \\right)} + 93.78\\right) \\left(150.0 \\cos{\\left(\\theta \\right)} + 150.0\\right)$"
      ],
      "text/plain": [
       "150.0⋅(7.2435⋅sin(θ) + 93.78)⋅(150.0⋅cos(θ) + 150.0)"
      ]
     },
     "metadata": {},
     "output_type": "display_data"
    },
    {
     "data": {
      "text/latex": [
       "$\\displaystyle M^{q_2}_3 = 6.9549 \\cdot 10^{6}Nmm$"
      ],
      "text/plain": [
       "<IPython.core.display.Math object>"
      ]
     },
     "metadata": {},
     "output_type": "display_data"
    }
   ],
   "source": [
    "mqf = qs[1]/4*(h + h*cos(theta))*h\n",
    "mqf = mqf.subs({t_1: tone, t_2: ttwo, h: hone, l:lone, V_y:vone})\n",
    "display(mqf.evalf(5))\n",
    "Mq2_3 = integrate(mqf.evalf(5), (theta, 0, pi))\n",
    "display(Math('M^{q_2}_3 = ' + latex(Mq2_3.evalf(5)) + 'Nmm'))"
   ]
  },
  {
   "cell_type": "markdown",
   "metadata": {},
   "source": [
    "The moments due to $q_{s1}$ and $q_{s4}$ are easier to determine.\n",
    "\n",
    "$$M_{3}^{q_1} = h\\int^{l}_0 q_{s_1}\\dif s_1$$\n",
    "$$M_{3}^{q_4} = l\\int^{h}_0 q_{s_4}\\dif s_4$$\n",
    "\n",
    "The total moments due to shear flow are simply the invidivual contributions added together."
   ]
  },
  {
   "cell_type": "code",
   "execution_count": 71,
   "metadata": {},
   "outputs": [
    {
     "data": {
      "text/latex": [
       "$\\displaystyle M^{q_1}_3 = 4.4093 \\cdot 10^{6}Nmm$"
      ],
      "text/plain": [
       "<IPython.core.display.Math object>"
      ]
     },
     "metadata": {},
     "output_type": "display_data"
    },
    {
     "data": {
      "text/latex": [
       "$\\displaystyle M^{q_4}_3 = -9.1446 \\cdot 10^{7}Nmm$"
      ],
      "text/plain": [
       "<IPython.core.display.Math object>"
      ]
     },
     "metadata": {},
     "output_type": "display_data"
    },
    {
     "data": {
      "text/latex": [
       "$\\displaystyle \\sum M^{q}_3 = -8.0082 \\cdot 10^{7}Nmm$"
      ],
      "text/plain": [
       "<IPython.core.display.Math object>"
      ]
     },
     "metadata": {},
     "output_type": "display_data"
    }
   ],
   "source": [
    "Mq1_3 = hone*integrate(qs[0], (s_1, 0, lone))\n",
    "display(Math('M^{q_1}_3 = ' + latex(Mq1_3.evalf(5)) + 'Nmm'))\n",
    "Mq4_3 = lone*integrate(qs[3], (s_4, 0, hone))\n",
    "display(Math('M^{q_4}_3 = ' + latex(Mq4_3.evalf(5)) + 'Nmm'))\n",
    "Mq3 = Mq2_3 + Mq1_3 + Mq4_3\n",
    "Mq3 = Mq3.subs({t_1: tone, t_2: ttwo, h: hone, l:lone, V_y:vone})\n",
    "display(Math('\\sum M^{q}_3 = ' + latex(Mq3.evalf(5)) + 'Nmm'))"
   ]
  },
  {
   "cell_type": "markdown",
   "metadata": {},
   "source": [
    "The moment due to the applied shear force will be counter-clockwise and hence negative\n",
    "$$M^V = -\\zeta\\cdot V_Y=\\sum M^q$$\n",
    "$$\\rightarrow \\zeta = -\\frac{\\sum M^q}{V_Y}$$"
   ]
  },
  {
   "cell_type": "code",
   "execution_count": 72,
   "metadata": {},
   "outputs": [
    {
     "data": {
      "text/latex": [
       "$\\displaystyle \\zeta = 640.65mm$"
      ],
      "text/plain": [
       "<IPython.core.display.Math object>"
      ]
     },
     "metadata": {},
     "output_type": "display_data"
    }
   ],
   "source": [
    "zeta = symbols('zeta')\n",
    "zeta = -Mq3/vone\n",
    "display(Math('\\zeta = ' + latex(zeta.evalf(5)) + 'mm'))"
   ]
  },
  {
   "cell_type": "markdown",
   "metadata": {},
   "source": [
    "## Question 4: Infinitessimal cut along symmetry line of member 4-1\n",
    "\n",
    "This gives us an additional member. I have arbitrarily decided to re-number the shear flows according to the diagram below. This may be different to what you chose, but is sensible as it keeps the procedure the same. We will have to recalculate the shear flows - but now we can use the 'basic' expression as there is no offset to determine.\n",
    "\n",
    "<img src=\"DistforQ4.png\" width=\"400\">\n",
    "\n",
    "Hence all that needs to be determined that is *new* are the displacement from the centroid as a function of $s_5$. These are simple to determine. The procedure for determining the shear flows is the same as before. The nomenclature has been updated below to have uppercase Q as the shear flow. (This forced me to re-write and ensure that I wasn't using old values - a lesson for good practice).\n",
    "\n",
    "## Determining the new shear flows"
   ]
  },
  {
   "cell_type": "code",
   "execution_count": 73,
   "metadata": {},
   "outputs": [],
   "source": [
    "s_5 = symbols('s_5')\n",
    "t = sympy.Matrix([[t[3]], [t[0]], [t[1]], [t[2]], [t[3]]])"
   ]
  },
  {
   "cell_type": "code",
   "execution_count": 74,
   "metadata": {},
   "outputs": [
    {
     "data": {
      "text/latex": [
       "$\\displaystyle q_{s1} = \\frac{V_{y} s_{1}^{2} t_{2}}{2 h^{2} \\left(\\frac{\\pi h t_{1}}{16} + \\frac{h t_{2}}{12} + \\frac{l \\left(t_{1} + t_{2}\\right)}{4}\\right)} = 0.0049669 s_{1}^{2}$"
      ],
      "text/plain": [
       "<IPython.core.display.Math object>"
      ]
     },
     "metadata": {},
     "output_type": "display_data"
    },
    {
     "data": {
      "text/latex": [
       "$\\displaystyle q_{s2} = - \\frac{V_{y} \\left(- \\frac{h s_{2} t_{2}}{2} + \\frac{s_{2}^{2} \\left(- h t_{1} + h t_{2}\\right)}{4 l}\\right)}{h^{2} \\left(\\frac{\\pi h t_{1}}{16} + \\frac{h t_{2}}{12} + \\frac{l \\left(t_{1} + t_{2}\\right)}{4}\\right)} + \\frac{21093.75}{6.5625 \\pi + 734.375} = - 0.00012812 s_{2}^{2} + 0.74504 s_{2} + 27.939$"
      ],
      "text/plain": [
       "<IPython.core.display.Math object>"
      ]
     },
     "metadata": {},
     "output_type": "display_data"
    },
    {
     "data": {
      "text/latex": [
       "$\\displaystyle q_{s3} = - \\frac{V_{y} t_{1} \\sin{\\left(\\theta \\right)}}{4 \\left(\\frac{\\pi h t_{1}}{16} + \\frac{h t_{2}}{12} + \\frac{l \\left(t_{1} + t_{2}\\right)}{4}\\right)} + \\frac{619010.416666667}{6.5625 \\pi + 734.375} = 819.89 - 28.974 \\sin{\\left(\\theta \\right)}$"
      ],
      "text/plain": [
       "<IPython.core.display.Math object>"
      ]
     },
     "metadata": {},
     "output_type": "display_data"
    },
    {
     "data": {
      "text/latex": [
       "$\\displaystyle q_{s4} = - \\frac{V_{y} \\left(\\frac{h s_{4} t_{1}}{2} + \\frac{s_{4}^{2} \\left(- h t_{1} + h t_{2}\\right)}{4 l}\\right)}{h^{2} \\left(\\frac{\\pi h t_{1}}{16} + \\frac{h t_{2}}{12} + \\frac{l \\left(t_{1} + t_{2}\\right)}{4}\\right)} + \\frac{619010.416666667}{6.5625 \\pi + 734.375} = - 0.00012812 s_{4}^{2} - 0.38632 s_{4} + 819.89$"
      ],
      "text/plain": [
       "<IPython.core.display.Math object>"
      ]
     },
     "metadata": {},
     "output_type": "display_data"
    },
    {
     "data": {
      "text/latex": [
       "$\\displaystyle q_{s5} = - \\frac{V_{y} \\left(\\frac{h s_{5} t_{2}}{2} - \\frac{s_{5}^{2} t_{2}}{2}\\right)}{h^{2} \\left(\\frac{\\pi h t_{1}}{16} + \\frac{h t_{2}}{12} + \\frac{l \\left(t_{1} + t_{2}\\right)}{4}\\right)} + \\frac{21093.75}{6.5625 \\pi + 734.375} = 0.0049669 s_{5}^{2} - 0.74504 s_{5} + 27.939$"
      ],
      "text/plain": [
       "<IPython.core.display.Math object>"
      ]
     },
     "metadata": {},
     "output_type": "display_data"
    },
    {
     "name": "stdout",
     "output_type": "stream",
     "text": [
      "With the principal values as:\n"
     ]
    },
    {
     "data": {
      "text/latex": [
       "$\\displaystyle q_{0} = 0$"
      ],
      "text/plain": [
       "<IPython.core.display.Math object>"
      ]
     },
     "metadata": {},
     "output_type": "display_data"
    },
    {
     "data": {
      "text/latex": [
       "$\\displaystyle q_{1} = \\frac{21093.75}{6.5625 \\pi + 734.375} = 27.939$"
      ],
      "text/plain": [
       "<IPython.core.display.Math object>"
      ]
     },
     "metadata": {},
     "output_type": "display_data"
    },
    {
     "data": {
      "text/latex": [
       "$\\displaystyle q_{2} = \\frac{619010.416666667}{6.5625 \\pi + 734.375} = 819.89$"
      ],
      "text/plain": [
       "<IPython.core.display.Math object>"
      ]
     },
     "metadata": {},
     "output_type": "display_data"
    },
    {
     "data": {
      "text/latex": [
       "$\\displaystyle q_{3} = \\frac{619010.416666667}{6.5625 \\pi + 734.375} = 819.89$"
      ],
      "text/plain": [
       "<IPython.core.display.Math object>"
      ]
     },
     "metadata": {},
     "output_type": "display_data"
    },
    {
     "data": {
      "text/latex": [
       "$\\displaystyle q_{4} = \\frac{21093.75}{6.5625 \\pi + 734.375} = 27.939$"
      ],
      "text/plain": [
       "<IPython.core.display.Math object>"
      ]
     },
     "metadata": {},
     "output_type": "display_data"
    },
    {
     "data": {
      "text/latex": [
       "$\\displaystyle q_{5} = 0 = 0$"
      ],
      "text/plain": [
       "<IPython.core.display.Math object>"
      ]
     },
     "metadata": {},
     "output_type": "display_data"
    }
   ],
   "source": [
    "# Resetting the arrays\n",
    "Qs = [] # Array for the analytical form of the open shear flow\n",
    "Qs_subs = [] # Array for the version with the student values substituted in\n",
    "Qp = [] # Array for the principle values\n",
    "Qp.append(0) # We know the value at node 5 is 0\n",
    "\n",
    "#%%%%%%%%%%%%%%%%%%%%%%%%%%%%%%%%%%%%%%%%%%%%%%%%%%%%%%%%%%%%\n",
    "#%% Member 1\n",
    "# The y displacement as a function of s5 is\n",
    "functb1 = -s_1\n",
    "\n",
    "Qs.append(-V_y/Ixx*(integrate(functb1*t_2, (s_1, 0, s_1))))\n",
    "Qs_subs.append(Qs[0].subs({t_1: tone, t_2: ttwo, h: hone, l:lone, V_y:vone}))\n",
    "\n",
    "display(Math('q_{s1} = ' + latex(Qs[0]) + ' = ' + latex(Qs_subs[0].evalf(5))))\n",
    "\n",
    "# Principal value\n",
    "Qp.append(Qs_subs[0].subs(s_1, hone/2))\n",
    "\n",
    "\n",
    "#%%%%%%%%%%%%%%%%%%%%%%%%%%%%%%%%%%%%%%%%%%%%%%%%%%%%%%%%%%%%\n",
    "#%% Member 2 (Old member 1)\n",
    "functb2 = (t_2 - (t_2 - t_1)/l*s_2)*-h/2\n",
    "Qs.append(Qp[1] + -V_y/Ixx*(integrate(functb2, (s_2, 0, s_2))))\n",
    "Qs_subs.append(Qs[1].subs({t_1: tone, t_2: ttwo, h: hone, l:lone, V_y:vone}))\n",
    "\n",
    "# Principal value\n",
    "Qp.append(Qs_subs[1].subs(s_2, lone))\n",
    "\n",
    "\n",
    "display(Math('q_{s2} = ' + latex(Qs[1]) + ' = ' + latex(Qs_subs[1].evalf(5))))\n",
    "\n",
    "#%%%%%%%%%%%%%%%%%%%%%%%%%%%%%%%%%%%%%%%%%%%%%%%%%%%%%%%%%%%%\n",
    "#%% Member 3 (Old member 2)\n",
    "Qs.append(Qp[2] + -V_y*t_1*h**2/4/Ixx*sin(theta))\n",
    "Qs_subs.append(Qs[2].subs({t_1: tone, t_2: ttwo, h: hone, l:lone, V_y:vone}))\n",
    "display(Math('q_{s3} = ' + latex(Qs[2]) + ' = ' + latex(Qs_subs[2].evalf(5))))\n",
    "# Principal value\n",
    "Qp.append(Qs_subs[2].subs(theta, pi))\n",
    "\n",
    "#%%%%%%%%%%%%%%%%%%%%%%%%%%%%%%%%%%%%%%%%%%%%%%%%%%%%%%%%%%%%\n",
    "#%% Member 4 (old member 3)\n",
    "functb4 = (t_1 + (t_2 - t_1)/l*s_4)*h/2\n",
    "Qs.append(Qp[3] + -V_y/Ixx*(integrate(functb4, (s_4, 0, s_4))))\n",
    "Qs_subs.append(Qs[3].subs({t_1: tone, t_2: ttwo, h: hone, l:lone, V_y:vone}))\n",
    "\n",
    "display(Math('q_{s4} = ' + latex(Qs[3]) + ' = ' + latex(Qs_subs[3].evalf(5))))\n",
    "\n",
    "Qp.append(Qs_subs[3].subs(s_4, lone))\n",
    "\n",
    "\n",
    "\n",
    "#%%%%%%%%%%%%%%%%%%%%%%%%%%%%%%%%%%%%%%%%%%%%%%%%%%%%%%%%%%%%\n",
    "#%% Member 5 (half of old member 4)\n",
    "functb5 = h/2 - s_5\n",
    "Qs.append(Qp[4] + -V_y/Ixx*(integrate(functb5*t_2, (s_5, 0, s_5))))\n",
    "Qs_subs.append(Qs[4].subs({t_1: tone, t_2: ttwo, h: hone, l:lone, V_y:vone}))\n",
    "\n",
    "display(Math('q_{s5} = ' + latex(Qs[4]) + ' = ' + latex(Qs_subs[4].evalf(5))))\n",
    "\n",
    "Qp.append(Qs_subs[4].subs(s_5, hone/2))\n",
    "\n",
    "\n",
    "\n",
    "\n",
    "\n",
    "\n",
    "# Display the principal values\n",
    "\n",
    "print(\"With the principal values as:\")\n",
    "display(Math('q_{0} = ' + latex(Qp[0])))\n",
    "display(Math('q_{1} = ' + latex(Qp[1]) + ' = ' + latex(Qp[1].evalf(5))))\n",
    "display(Math('q_{2} = ' + latex(Qp[2]) + ' = ' + latex(Qp[2].evalf(5))))\n",
    "display(Math('q_{3} = ' + latex(Qp[3]) + ' = ' + latex(Qp[3].evalf(5))))\n",
    "display(Math('q_{4} = ' + latex(Qp[4]) + ' = ' + latex(Qp[4].evalf(5))))\n",
    "display(Math('q_{5} = ' + latex(Qp[5]) + ' = ' + latex(Qp[5].evalf(5))))"
   ]
  },
  {
   "cell_type": "markdown",
   "metadata": {},
   "source": [
    "### Shear centre determination\n",
    "\n",
    "With the shear flows now determined, the shear centre can be determined as it was before. We will take moments about the upper LH corner - the upper end of the circular arc. The expression for the circular arc is unchanged except now it is $s_3$ in plcae of $s_2$ due to the split at 4-1:\n",
    "\n",
    "$$ M^q_{s_3} = \\int^\\pi_0q_{s_2}\\frac{1}{2}\\left(h + h\\cdot\\cos\\theta\\right)\\frac{h}{2}\\,\\dif \\theta$$\n",
    "$$  = \\int^\\pi_0q_{s_3}\\frac{1}{4}\\left(h + h\\cdot\\cos\\theta\\right)h\\,\\dif \\theta$$"
   ]
  },
  {
   "cell_type": "code",
   "execution_count": 75,
   "metadata": {},
   "outputs": [
    {
     "data": {
      "image/png": "[encoded data removed]",
      "text/latex": [
       "$\\displaystyle - \\frac{V_{y} t_{1} \\sin{\\left(\\theta \\right)}}{4 \\left(\\frac{\\pi h t_{1}}{16} + \\frac{h t_{2}}{12} + \\frac{l \\left(t_{1} + t_{2}\\right)}{4}\\right)} + \\frac{619010.416666667}{6.5625 \\pi + 734.375}$"
      ],
      "text/plain": [
       "           V_y⋅t₁⋅sin(θ)             619010.416666667 \n",
       "- ─────────────────────────────── + ──────────────────\n",
       "    ⎛π⋅h⋅t₁   h⋅t₂   l⋅(t₁ + t₂)⎞   6.5625⋅π + 734.375\n",
       "  4⋅⎜────── + ──── + ───────────⎟                     \n",
       "    ⎝  16      12         4     ⎠                     "
      ]
     },
     "metadata": {},
     "output_type": "display_data"
    },
    {
     "data": {
      "image/png": "[encoded data removed]",
      "text/latex": [
       "$\\displaystyle 150.0 \\left(204.97 - 7.2435 \\sin{\\left(\\theta \\right)}\\right) \\left(150.0 \\cos{\\left(\\theta \\right)} + 150.0\\right)$"
      ],
      "text/plain": [
       "150.0⋅(204.97 - 7.2435⋅sin(θ))⋅(150.0⋅cos(θ) + 150.0)"
      ]
     },
     "metadata": {},
     "output_type": "display_data"
    },
    {
     "data": {
      "text/latex": [
       "$\\displaystyle M^{q_3}_3 = 1.4163 \\cdot 10^{7}Nmm$"
      ],
      "text/plain": [
       "<IPython.core.display.Math object>"
      ]
     },
     "metadata": {},
     "output_type": "display_data"
    }
   ],
   "source": [
    "Mqf = Qs[2]/4*(h + h*cos(theta))*h\n",
    "display(Qs[2])\n",
    "Mqf = Mqf.subs({t_1: tone, t_2: ttwo, h: hone, l:lone, V_y:vone})\n",
    "display(Mqf.evalf(5))\n",
    "Mq3_3 = integrate(Mqf.evalf(5), (theta, 0, pi))\n",
    "display(Math('M^{q_3}_3 = ' + latex(Mq3_3.evalf(5)) + 'Nmm'))"
   ]
  },
  {
   "cell_type": "markdown",
   "metadata": {},
   "source": [
    "We will determine the shear flows at node 3 due to $q_{s1}$, $q_{s2}$, and $q_{s5}$, and then summate to give the total shear flow moment at node 3."
   ]
  },
  {
   "cell_type": "code",
   "execution_count": 76,
   "metadata": {},
   "outputs": [
    {
     "data": {
      "text/latex": [
       "$\\displaystyle M^{q_1}_3 = \\frac{4.725 \\cdot 10^{9} V_{y} t_{2}}{9.4248 h^{3} t_{1} + 4.0 h^{3} t_{2} + 12.0 h^{2} l t_{1} + 12.0 h^{2} l t_{2}}Nmm$"
      ],
      "text/plain": [
       "<IPython.core.display.Math object>"
      ]
     },
     "metadata": {},
     "output_type": "display_data"
    },
    {
     "data": {
      "text/latex": [
       "$\\displaystyle M^{q_2}_3 = -9.1446 \\cdot 10^{7}Nmm$"
      ],
      "text/plain": [
       "<IPython.core.display.Math object>"
      ]
     },
     "metadata": {},
     "output_type": "display_data"
    },
    {
     "data": {
      "text/latex": [
       "$\\displaystyle M^{q_5}_3 = -9.1446 \\cdot 10^{7}Nmm$"
      ],
      "text/plain": [
       "<IPython.core.display.Math object>"
      ]
     },
     "metadata": {},
     "output_type": "display_data"
    },
    {
     "data": {
      "text/latex": [
       "$\\displaystyle \\sum M^{q}_3 = 1.1393 \\cdot 10^{8}Nmm$"
      ],
      "text/plain": [
       "<IPython.core.display.Math object>"
      ]
     },
     "metadata": {},
     "output_type": "display_data"
    }
   ],
   "source": [
    "Mq1_3 = lone*integrate(Qs[0], (s_1, 0, hone/2))\n",
    "display(Math('M^{q_1}_3 = ' + latex(Mq1_3.evalf(5)) + 'Nmm'))\n",
    "Mq2_3 = hone*integrate(Qs[1], (s_2, 0, lone))\n",
    "display(Math('M^{q_2}_3 = ' + latex(Mq4_3.evalf(5)) + 'Nmm'))\n",
    "Mq5_3 = lone*integrate(Qs[4], (s_5, 0, hone/2))\n",
    "display(Math('M^{q_5}_3 = ' + latex(Mq4_3.evalf(5)) + 'Nmm'))\n",
    "Mq3 = Mq3_3 + Mq1_3 + Mq2_3 + Mq5_3\n",
    "Mq3 = Mq3.subs({t_1: tone, t_2: ttwo, h: hone, l:lone, V_y:vone})\n",
    "display(Math('\\sum M^{q}_3 = ' + latex(Mq3.evalf(5)) + 'Nmm'))"
   ]
  },
  {
   "cell_type": "markdown",
   "metadata": {},
   "source": [
    "And, as n before, the moment due to the applied shear force will be counter-clockwise and hence negative\n",
    "$$M^V = -\\zeta\\cdot V_Y=\\sum M^q$$\n",
    "$$\\rightarrow \\zeta = -\\frac{\\sum M^q}{V_Y}$$"
   ]
  },
  {
   "cell_type": "code",
   "execution_count": 77,
   "metadata": {},
   "outputs": [
    {
     "data": {
      "text/latex": [
       "$\\displaystyle \\zeta = -911.43mm$"
      ],
      "text/plain": [
       "<IPython.core.display.Math object>"
      ]
     },
     "metadata": {},
     "output_type": "display_data"
    }
   ],
   "source": [
    "zeta = symbols('zeta')\n",
    "zeta = -Mq3/vone\n",
    "display(Math('\\zeta = ' + latex(zeta.evalf(5)) + 'mm'))"
   ]
  },
  {
   "cell_type": "markdown",
   "metadata": {},
   "source": [
    "## Comment on the answer to part 4\n",
    "\n",
    "What we see here is that we have a *negative value*, and we can subtract the circular radius from it to show that the shear centre lies to the left of the closed section "
   ]
  },
  {
   "cell_type": "code",
   "execution_count": 78,
   "metadata": {},
   "outputs": [
    {
     "data": {
      "text/plain": [
       "'With the infinitessimal cut, the shear centre now lies outisde of the section, to the left by 0.837m'"
      ]
     },
     "metadata": {},
     "output_type": "display_data"
    }
   ],
   "source": [
    "dX = -(zeta + hone/2)\n",
    "\n",
    "display(\"With the infinitessimal cut, the shear centre now lies outisde of the section, to the left by \" + latex(dX.evalf(3)/1000) + \"m\")"
   ]
  },
  {
   "cell_type": "markdown",
   "metadata": {},
   "source": [
    "This is a large value, but the fact that it's outside of the section makes sense. Looking back at the examples in the notes, we see that for an open section, the shear centre lies outside to the closed side:\n",
    "\n",
    "<img src=\"ShearCentreExample3.jpg\" width=\"400\">"
   ]
  },
  {
   "cell_type": "markdown",
   "metadata": {},
   "source": [
    "## 6 - Removing 4-1 completely\n",
    "\n",
    "<img src=\"DistforQ6.png\" width=\"400\">\n",
    "\n",
    "\n",
    "We've actually done all the hard work at this point, but we need to realise that the value for the second moment of area will be reduced to:"
   ]
  },
  {
   "cell_type": "code",
   "execution_count": 79,
   "metadata": {},
   "outputs": [
    {
     "data": {
      "text/latex": [
       "$\\displaystyle I_{xx}=h^{2} \\left(\\frac{\\pi h t_{1}}{16} + \\frac{h t_{2}}{12} + \\frac{l \\left(t_{1} + t_{2}\\right)}{4}\\right) = 1.6608 \\cdot 10^{7}(mm)^4 = 1.6608 \\cdot 10^{-5}m^4$"
      ],
      "text/plain": [
       "<IPython.core.display.Math object>"
      ]
     },
     "metadata": {},
     "output_type": "display_data"
    }
   ],
   "source": [
    "pref = 'I_{xx}='\n",
    "Ixxprime = simplify(Ixx12 + Ixx23 + Ixx34)\n",
    "Ixx2 = Ixxprime.subs({t_1: tone, t_2: ttwo, h: hone, l:lone})\n",
    "\n",
    "display(Math(pref + latex(Ixx) + ' = ' + latex((Ixx2.evalf(5))) + '(mm)^4 = '  + latex((Ixx2.evalf(5)/10**12)) + 'm^4'))"
   ]
  },
  {
   "cell_type": "markdown",
   "metadata": {},
   "source": [
    "So we will re-evaluate the shear flows in the three members, using the numbering system from the diagram above"
   ]
  },
  {
   "cell_type": "code",
   "execution_count": 80,
   "metadata": {},
   "outputs": [
    {
     "data": {
      "text/latex": [
       "$\\displaystyle q_{s1} = - \\frac{V_{y} \\left(- \\frac{h s_{1} t_{2}}{2} + \\frac{s_{1}^{2} \\left(- h t_{1} + h t_{2}\\right)}{4 l}\\right)}{h^{2} \\left(\\frac{\\pi h t_{1}}{16} + \\frac{h t_{2}}{12} + \\frac{l \\left(t_{1} + t_{2}\\right)}{4}\\right)} = - 0.00012812 s_{1}^{2} + 0.74504 s_{1}$"
      ],
      "text/plain": [
       "<IPython.core.display.Math object>"
      ]
     },
     "metadata": {},
     "output_type": "display_data"
    },
    {
     "data": {
      "text/latex": [
       "$\\displaystyle q_{s2} = - \\frac{V_{y} t_{1} \\sin{\\left(\\theta \\right)}}{4 \\left(\\frac{\\pi h t_{1}}{16} + \\frac{h t_{2}}{12} + \\frac{l \\left(t_{1} + t_{2}\\right)}{4}\\right)} + \\frac{597916.666666667}{6.5625 \\pi + 734.375} = 791.95 - 28.974 \\sin{\\left(\\theta \\right)}$"
      ],
      "text/plain": [
       "<IPython.core.display.Math object>"
      ]
     },
     "metadata": {},
     "output_type": "display_data"
    },
    {
     "data": {
      "text/latex": [
       "$\\displaystyle q_{s3} = - \\frac{V_{y} \\left(\\frac{h s_{3} t_{1}}{2} + \\frac{s_{3}^{2} \\left(- h t_{1} + h t_{2}\\right)}{4 l}\\right)}{h^{2} \\left(\\frac{\\pi h t_{1}}{16} + \\frac{h t_{2}}{12} + \\frac{l \\left(t_{1} + t_{2}\\right)}{4}\\right)} + \\frac{597916.666666667}{6.5625 \\pi + 734.375} = - 0.00012812 s_{3}^{2} - 0.38632 s_{3} + 791.95$"
      ],
      "text/plain": [
       "<IPython.core.display.Math object>"
      ]
     },
     "metadata": {},
     "output_type": "display_data"
    },
    {
     "name": "stdout",
     "output_type": "stream",
     "text": [
      "With the principal values as:\n"
     ]
    },
    {
     "data": {
      "text/latex": [
       "$\\displaystyle q_{0} = 0$"
      ],
      "text/plain": [
       "<IPython.core.display.Math object>"
      ]
     },
     "metadata": {},
     "output_type": "display_data"
    },
    {
     "data": {
      "text/latex": [
       "$\\displaystyle q_{1} = \\frac{597916.666666667}{6.5625 \\pi + 734.375} = 791.95$"
      ],
      "text/plain": [
       "<IPython.core.display.Math object>"
      ]
     },
     "metadata": {},
     "output_type": "display_data"
    },
    {
     "data": {
      "text/latex": [
       "$\\displaystyle q_{2} = \\frac{597916.666666667}{6.5625 \\pi + 734.375} = 791.95$"
      ],
      "text/plain": [
       "<IPython.core.display.Math object>"
      ]
     },
     "metadata": {},
     "output_type": "display_data"
    },
    {
     "data": {
      "text/latex": [
       "$\\displaystyle q_{3} = 0 = 0$"
      ],
      "text/plain": [
       "<IPython.core.display.Math object>"
      ]
     },
     "metadata": {},
     "output_type": "display_data"
    }
   ],
   "source": [
    "# Resetting the arrays\n",
    "Qs = [] # Array for the analytical form of the open shear flow\n",
    "Qs_subs = [] # Array for the version with the student values substituted in\n",
    "Qp = [] # Array for the principle values\n",
    "Qp.append(0) # We know the value at node 5 is 0\n",
    "\n",
    "#%%%%%%%%%%%%%%%%%%%%%%%%%%%%%%%%%%%%%%%%%%%%%%%%%%%%%%%%%%%%\n",
    "#%% Member 1 (Original member 1, Amended member 2)\n",
    "functb1 = (t_2 - (t_2 - t_1)/l*s_1)*-h/2\n",
    "Qs.append(-V_y/Ixx*(integrate(functb1, (s_1, 0, s_1))))\n",
    "Qs_subs.append(Qs[0].subs({t_1: tone, t_2: ttwo, h: hone, l:lone, V_y:vone}))\n",
    "\n",
    "# Principal value\n",
    "Qp.append(Qs_subs[0].subs(s_1, lone))\n",
    "\n",
    "display(Math('q_{s1} = ' + latex(Qs[0]) + ' = ' + latex(Qs_subs[0].evalf(5))))\n",
    "\n",
    "#%%%%%%%%%%%%%%%%%%%%%%%%%%%%%%%%%%%%%%%%%%%%%%%%%%%%%%%%%%%%\n",
    "#%% Member 2 (Original member 2, amended member 3)\n",
    "Qs.append(Qp[1] + -V_y*t_1*h**2/4/Ixx*sin(theta))\n",
    "Qs_subs.append(Qs[1].subs({t_1: tone, t_2: ttwo, h: hone, l:lone, V_y:vone}))\n",
    "display(Math('q_{s2} = ' + latex(Qs[1]) + ' = ' + latex(Qs_subs[1].evalf(5))))\n",
    "# Principal value\n",
    "Qp.append(Qs_subs[1].subs(theta, pi))\n",
    "\n",
    "#%%%%%%%%%%%%%%%%%%%%%%%%%%%%%%%%%%%%%%%%%%%%%%%%%%%%%%%%%%%%\n",
    "#%% Member 3 (Original member 3, amended member 4)\n",
    "functb3 = (t_1 + (t_2 - t_1)/l*s_3)*h/2\n",
    "Qs.append(Qp[2] + -V_y/Ixx*(integrate(functb3, (s_3, 0, s_3))))\n",
    "Qs_subs.append(Qs[2].subs({t_1: tone, t_2: ttwo, h: hone, l:lone, V_y:vone}))\n",
    "\n",
    "display(Math('q_{s3} = ' + latex(Qs[2]) + ' = ' + latex(Qs_subs[2].evalf(5))))\n",
    "\n",
    "Qp.append(Qs_subs[2].subs(s_3, lone))\n",
    "\n",
    "\n",
    "\n",
    "# Display the principal values\n",
    "\n",
    "print(\"With the principal values as:\")\n",
    "display(Math('q_{0} = ' + latex(Qp[0])))\n",
    "display(Math('q_{1} = ' + latex(Qp[1]) + ' = ' + latex(Qp[1].evalf(5))))\n",
    "display(Math('q_{2} = ' + latex(Qp[2]) + ' = ' + latex(Qp[2].evalf(5))))\n",
    "display(Math('q_{3} = ' + latex(Qp[3]) + ' = ' + latex(Qp[3].evalf(5))))"
   ]
  },
  {
   "cell_type": "markdown",
   "metadata": {},
   "source": [
    "By this point, we're experts in determining the shear centre location, so the calculations can just be repeated here with the new values of the shear flows"
   ]
  },
  {
   "cell_type": "code",
   "execution_count": 81,
   "metadata": {},
   "outputs": [
    {
     "data": {
      "image/png": "[encoded data removed]",
      "text/latex": [
       "$\\displaystyle - \\frac{V_{y} t_{1} \\sin{\\left(\\theta \\right)}}{4 \\left(\\frac{\\pi h t_{1}}{16} + \\frac{h t_{2}}{12} + \\frac{l \\left(t_{1} + t_{2}\\right)}{4}\\right)} + \\frac{597916.666666667}{6.5625 \\pi + 734.375}$"
      ],
      "text/plain": [
       "           V_y⋅t₁⋅sin(θ)             597916.666666667 \n",
       "- ─────────────────────────────── + ──────────────────\n",
       "    ⎛π⋅h⋅t₁   h⋅t₂   l⋅(t₁ + t₂)⎞   6.5625⋅π + 734.375\n",
       "  4⋅⎜────── + ──── + ───────────⎟                     \n",
       "    ⎝  16      12         4     ⎠                     "
      ]
     },
     "metadata": {},
     "output_type": "display_data"
    },
    {
     "data": {
      "image/png": "[encoded data removed]",
      "text/latex": [
       "$\\displaystyle 150.0 \\left(197.99 - 7.2435 \\sin{\\left(\\theta \\right)}\\right) \\left(150.0 \\cos{\\left(\\theta \\right)} + 150.0\\right)$"
      ],
      "text/plain": [
       "150.0⋅(197.99 - 7.2435⋅sin(θ))⋅(150.0⋅cos(θ) + 150.0)"
      ]
     },
     "metadata": {},
     "output_type": "display_data"
    },
    {
     "data": {
      "text/latex": [
       "$\\displaystyle M^{q_3}_3 = 1.4163 \\cdot 10^{7}Nmm$"
      ],
      "text/plain": [
       "<IPython.core.display.Math object>"
      ]
     },
     "metadata": {},
     "output_type": "display_data"
    }
   ],
   "source": [
    "Mqf = Qs[1]/4*(h + h*cos(theta))*h\n",
    "display(Qs[1])\n",
    "Mqf = Mqf.subs({t_1: tone, t_2: ttwo, h: hone, l:lone, V_y:vone})\n",
    "display(Mqf.evalf(5))\n",
    "Mq2_3 = integrate(Mqf.evalf(5), (theta, 0, pi))\n",
    "display(Math('M^{q_3}_3 = ' + latex(Mq3_3.evalf(5)) + 'Nmm'))"
   ]
  },
  {
   "cell_type": "code",
   "execution_count": 82,
   "metadata": {},
   "outputs": [
    {
     "data": {
      "text/latex": [
       "$\\displaystyle M^{q_1}_3 = \\frac{3.528 \\cdot 10^{9} V_{y} t_{2}}{9.4248 h^{2} t_{1} + 4.0 h^{2} t_{2} + 12.0 h l t_{1} + 12.0 h l t_{2}} + \\frac{4.116 \\cdot 10^{11} \\left(4.0 V_{y} t_{1} - 4.0 V_{y} t_{2}\\right)}{9.4248 h^{2} l t_{1} + 4.0 h^{2} l t_{2} + 12.0 h l^{2} t_{1} + 12.0 h l^{2} t_{2}}Nmm$"
      ],
      "text/plain": [
       "<IPython.core.display.Math object>"
      ]
     },
     "metadata": {},
     "output_type": "display_data"
    },
    {
     "data": {
      "text/latex": [
       "$\\displaystyle \\sum M^{q}_3 = 1.0561 \\cdot 10^{8}Nmm$"
      ],
      "text/plain": [
       "<IPython.core.display.Math object>"
      ]
     },
     "metadata": {},
     "output_type": "display_data"
    }
   ],
   "source": [
    "Mq1_3 = hone*integrate(Qs[0], (s_1, 0, lone))\n",
    "display(Math('M^{q_1}_3 = ' + latex(Mq1_3.evalf(5)) + 'Nmm'))\n",
    "\n",
    "Mq3 = Mq1_3 + Mq2_3\n",
    "Mq3 = Mq3.subs({t_1: tone, t_2: ttwo, h: hone, l:lone, V_y:vone})\n",
    "display(Math('\\sum M^{q}_3 = ' + latex(Mq3.evalf(5)) + 'Nmm'))"
   ]
  },
  {
   "cell_type": "code",
   "execution_count": 83,
   "metadata": {},
   "outputs": [
    {
     "data": {
      "text/latex": [
       "$\\displaystyle \\zeta = -844.9mm$"
      ],
      "text/plain": [
       "<IPython.core.display.Math object>"
      ]
     },
     "metadata": {},
     "output_type": "display_data"
    }
   ],
   "source": [
    "zeta = symbols('zeta')\n",
    "zeta = -Mq3/vone\n",
    "display(Math('\\zeta = ' + latex(zeta.evalf(5)) + 'mm'))"
   ]
  },
  {
   "cell_type": "code",
   "execution_count": 84,
   "metadata": {},
   "outputs": [
    {
     "data": {
      "text/plain": [
       "'With member 4-1 removed, the shear centre now lies outisde of the section, to the left by 0.77m'"
      ]
     },
     "metadata": {},
     "output_type": "display_data"
    }
   ],
   "source": [
    "dX = -(zeta + hone/2)\n",
    "\n",
    "display(\"With member 4-1 removed, the shear centre now lies outisde of the section, to the left by \" + latex(dX.evalf(3)/1000) + \"m\")"
   ]
  },
  {
   "cell_type": "code",
   "execution_count": null,
   "metadata": {},
   "outputs": [],
   "source": []
  }
 ],
 "metadata": {
  "kernelspec": {
   "display_name": "Python 3",
   "language": "python",
   "name": "python3"
  },
  "language_info": {
   "codemirror_mode": {
    "name": "ipython",
    "version": 3
   },
   "file_extension": ".py",
   "mimetype": "text/x-python",
   "name": "python",
   "nbconvert_exporter": "python",
   "pygments_lexer": "ipython3",
   "version": "3.7.7"
  }
 },
 "nbformat": 4,
 "nbformat_minor": 4
}
